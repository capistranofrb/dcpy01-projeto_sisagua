{
 "cells": [
  {
   "cell_type": "code",
   "execution_count": 1,
   "id": "bc3446f2",
   "metadata": {},
   "outputs": [],
   "source": [
    "# ETAPA 1: Importação de bibliotecas\n",
    "import pandas as pd\n",
    "from sqlalchemy import create_engine, text\n",
    "from hdfs import InsecureClient\n",
    "import logging"
   ]
  },
  {
   "cell_type": "code",
   "execution_count": 2,
   "id": "2af09e90",
   "metadata": {},
   "outputs": [],
   "source": [
    "# Configuração de logging\n",
    "logging.basicConfig(level=logging.INFO)\n",
    "logger = logging.getLogger()"
   ]
  },
  {
   "cell_type": "code",
   "execution_count": 3,
   "id": "2b0136d8",
   "metadata": {},
   "outputs": [],
   "source": [
    "# ETAPA 2: Configurações\n",
    "hdfs_url = 'http://master:9870'\n",
    "hdfs_user = 'alexandre'\n",
    "hdfs_dir = 'sisagua/'"
   ]
  },
  {
   "cell_type": "code",
   "execution_count": 4,
   "id": "c5357247",
   "metadata": {},
   "outputs": [],
   "source": [
    "# Configurações do PostgreSQL\n",
    "pg_host = 'localhost'\n",
    "pg_database = 'sisagua'\n",
    "pg_user = 'postgres'\n",
    "pg_password = '1234'\n",
    "pg_port = '5433'\n",
    "table_name = 'dados_sisagua_transformados'"
   ]
  },
  {
   "cell_type": "code",
   "execution_count": 6,
   "id": "ceb98b72",
   "metadata": {},
   "outputs": [],
   "source": [
    "def test_postgres_connection():\n",
    "    \"\"\"Testa a conexão com o PostgreSQL\"\"\"\n",
    "    try:\n",
    "        engine = create_engine(\n",
    "            f'postgresql://{pg_user}:{pg_password}@{pg_host}:{pg_port}/{pg_database}'\n",
    "        )\n",
    "        with engine.connect() as conn:\n",
    "            conn.execute(text(\"SELECT 1\"))\n",
    "        logger.info(\"✅ Conexão com PostgreSQL testada com sucesso!\")\n",
    "        return True\n",
    "    except Exception as e:\n",
    "        logger.error(f\"❌ Falha na conexão com PostgreSQL: {e}\")\n",
    "        return False"
   ]
  },
  {
   "cell_type": "code",
   "execution_count": 7,
   "id": "fe7e07b4",
   "metadata": {},
   "outputs": [],
   "source": [
    "def create_target_table(engine):\n",
    "    \"\"\"Cria a tabela de destino se não existir\"\"\"\n",
    "    try:\n",
    "        with engine.begin() as conn:\n",
    "            conn.execute(text(f\"\"\"\n",
    "                CREATE TABLE IF NOT EXISTS {table_name} (\n",
    "                    municipio TEXT,\n",
    "                    ano INT,\n",
    "                    tipo_da_forma_de_abastecimento TEXT,\n",
    "                    mes TEXT,\n",
    "                    parametro TEXT,\n",
    "                    data_da_coleta DATE,\n",
    "                    resultado TEXT,\n",
    "                    __arquivo_origem TEXT,\n",
    "                    resultado_num FLOAT,\n",
    "                    conformidade TEXT,\n",
    "                    tipo_analise TEXT\n",
    "                );\n",
    "            \"\"\"))\n",
    "            logger.info(f\"✅ Tabela {table_name} verificada/criada\")\n",
    "    except Exception as e:\n",
    "        logger.error(f\"❌ Erro ao criar tabela: {e}\")\n",
    "        raise"
   ]
  },
  {
   "cell_type": "code",
   "execution_count": 8,
   "id": "3f9ad5e2",
   "metadata": {},
   "outputs": [],
   "source": [
    "def classificar_conformidade(row):\n",
    "    \"\"\"Classifica a conformidade dos resultados\"\"\"\n",
    "    parametro = str(row['parametro']).strip().upper()\n",
    "    valor = str(row['resultado']).strip().upper()\n",
    "    valor_num = row['resultado_num']\n",
    "    try:\n",
    "        if parametro == 'TURBIDEZ (UT)':\n",
    "            return 'CONFORME' if valor_num < 5 else 'NÃO CONFORME'\n",
    "        elif parametro == 'ESCHERICHIA COLI':\n",
    "            return 'CONFORME' if valor == 'AUSENTE' else 'NÃO CONFORME'\n",
    "        elif parametro == 'COLIFORMES TOTAIS':\n",
    "            return 'CONFORME' if valor == 'AUSENTE' else 'NÃO CONFORME'\n",
    "        elif parametro == 'CLORO RESIDUAL LIVRE (MG/L)':\n",
    "            return 'CONFORME' if 0.2 <= valor_num <= 5.0 else 'NÃO CONFORME'\n",
    "        elif parametro == 'PH':\n",
    "            return 'CONFORME' if 6 <= valor_num <= 9.5 else 'NÃO CONFORME'\n",
    "        elif parametro == 'COR APARENTE (UH)':\n",
    "            return 'CONFORME' if valor_num < 15 else 'NÃO CONFORME'\n",
    "        elif parametro == 'FLUORETO (MG/L)':\n",
    "            return 'CONFORME' if valor_num <= 1.5 else 'NÃO CONFORME'\n",
    "    except:\n",
    "        return 'ERRO'\n",
    "    return 'IGNORADO'"
   ]
  },
  {
   "cell_type": "code",
   "execution_count": 9,
   "id": "c3c281e9",
   "metadata": {},
   "outputs": [],
   "source": [
    "def classificar_tipo_analise(parametro):\n",
    "    \"\"\"Classifica o tipo de análise\"\"\"\n",
    "    parametro = str(parametro).strip().upper()\n",
    "    if parametro in ['COLIFORMES TOTAIS', 'ESCHERICHIA COLI']:\n",
    "        return 'Microbiológica'\n",
    "    elif parametro in ['TURBIDEZ (UT)', 'CLORO RESIDUAL LIVRE (MG/L)', 'PH', 'COR APARENTE (UH)', 'FLUORETO (MG/L)']:\n",
    "        return 'Físico-Química'\n",
    "    return 'Outros'"
   ]
  },
  {
   "cell_type": "code",
   "execution_count": 10,
   "id": "f58f339a",
   "metadata": {},
   "outputs": [
    {
     "name": "stderr",
     "output_type": "stream",
     "text": [
      "INFO:root:✅ Conexão com PostgreSQL testada com sucesso!\n"
     ]
    },
    {
     "name": "stdout",
     "output_type": "stream",
     "text": [
      "Conexão com PostgreSQL está funcionando corretamente!\n"
     ]
    }
   ],
   "source": [
    "if test_postgres_connection():\n",
    "    print(\"Conexão com PostgreSQL está funcionando corretamente!\")\n",
    "else:\n",
    "    print(\"Problemas na conexão com PostgreSQL. Verifique as configurações.\")"
   ]
  },
  {
   "cell_type": "code",
   "execution_count": 11,
   "id": "61326493",
   "metadata": {},
   "outputs": [
    {
     "name": "stderr",
     "output_type": "stream",
     "text": [
      "INFO:root:✅ Tabela dados_sisagua_transformados verificada/criada\n"
     ]
    }
   ],
   "source": [
    "# Configurar engine SQLAlchemy\n",
    "engine = create_engine(\n",
    "    f'postgresql://{pg_user}:{pg_password}@{pg_host}:{pg_port}/{pg_database}',\n",
    "    pool_pre_ping=True\n",
    ")\n",
    "\n",
    "# Criar tabela de destino\n",
    "create_target_table(engine)"
   ]
  },
  {
   "cell_type": "code",
   "execution_count": 12,
   "id": "bd9e19d0",
   "metadata": {},
   "outputs": [
    {
     "name": "stderr",
     "output_type": "stream",
     "text": [
      "INFO:hdfs.client:Instantiated <InsecureClient(url='http://master:9870')>.\n",
      "INFO:hdfs.client:Listing 'sisagua/'.\n"
     ]
    },
    {
     "name": "stdout",
     "output_type": "stream",
     "text": [
      "Arquivos encontrados no HDFS: ['dados_2020_2025_04_30.csv', 'dados_2020_2025_05_01.csv', 'dados_2021_2025_05_01.csv', 'dados_2021_2025_05_02.csv', 'dados_2022_2025_05_02.csv', 'dados_2023_2025_05_02.csv', 'dados_2024_2025_05_02.csv', 'dados_2025_2025_05_02.csv']\n"
     ]
    }
   ],
   "source": [
    "# Conexão com HDFS e listagem de arquivos\n",
    "try:\n",
    "    client = InsecureClient(hdfs_url, user=hdfs_user)\n",
    "    arquivos = client.list(hdfs_dir)\n",
    "    arquivos_csv = [arq for arq in arquivos if arq.endswith('.csv')]\n",
    "    \n",
    "    if not arquivos_csv:\n",
    "        logger.warning(\"Nenhum arquivo CSV encontrado no HDFS.\")\n",
    "    else:\n",
    "        print(f\"Arquivos encontrados no HDFS: {arquivos_csv}\")\n",
    "except Exception as e:\n",
    "    logger.error(f\"Erro ao acessar HDFS: {e}\")"
   ]
  },
  {
   "cell_type": "code",
   "execution_count": 13,
   "id": "4672e532",
   "metadata": {},
   "outputs": [
    {
     "name": "stderr",
     "output_type": "stream",
     "text": [
      "INFO:hdfs.client:Reading file 'sisagua/dados_2020_2025_04_30.csv'.\n",
      "INFO:hdfs.client:Reading file 'sisagua/dados_2020_2025_05_01.csv'.\n"
     ]
    },
    {
     "name": "stdout",
     "output_type": "stream",
     "text": [
      "Arquivo dados_2020_2025_04_30.csv lido com sucesso!\n"
     ]
    },
    {
     "name": "stderr",
     "output_type": "stream",
     "text": [
      "INFO:hdfs.client:Reading file 'sisagua/dados_2021_2025_05_01.csv'.\n"
     ]
    },
    {
     "name": "stdout",
     "output_type": "stream",
     "text": [
      "Arquivo dados_2020_2025_05_01.csv lido com sucesso!\n"
     ]
    },
    {
     "name": "stderr",
     "output_type": "stream",
     "text": [
      "INFO:hdfs.client:Reading file 'sisagua/dados_2021_2025_05_02.csv'.\n"
     ]
    },
    {
     "name": "stdout",
     "output_type": "stream",
     "text": [
      "Arquivo dados_2021_2025_05_01.csv lido com sucesso!\n"
     ]
    },
    {
     "name": "stderr",
     "output_type": "stream",
     "text": [
      "INFO:hdfs.client:Reading file 'sisagua/dados_2022_2025_05_02.csv'.\n"
     ]
    },
    {
     "name": "stdout",
     "output_type": "stream",
     "text": [
      "Arquivo dados_2021_2025_05_02.csv lido com sucesso!\n"
     ]
    },
    {
     "name": "stderr",
     "output_type": "stream",
     "text": [
      "INFO:hdfs.client:Reading file 'sisagua/dados_2023_2025_05_02.csv'.\n"
     ]
    },
    {
     "name": "stdout",
     "output_type": "stream",
     "text": [
      "Arquivo dados_2022_2025_05_02.csv lido com sucesso!\n"
     ]
    },
    {
     "name": "stderr",
     "output_type": "stream",
     "text": [
      "INFO:hdfs.client:Reading file 'sisagua/dados_2024_2025_05_02.csv'.\n"
     ]
    },
    {
     "name": "stdout",
     "output_type": "stream",
     "text": [
      "Arquivo dados_2023_2025_05_02.csv lido com sucesso!\n"
     ]
    },
    {
     "name": "stderr",
     "output_type": "stream",
     "text": [
      "INFO:hdfs.client:Reading file 'sisagua/dados_2025_2025_05_02.csv'.\n"
     ]
    },
    {
     "name": "stdout",
     "output_type": "stream",
     "text": [
      "Arquivo dados_2024_2025_05_02.csv lido com sucesso!\n",
      "Arquivo dados_2025_2025_05_02.csv lido com sucesso!\n",
      "Total de registros lidos: 1856071\n"
     ]
    }
   ],
   "source": [
    "# Processamento dos arquivos\n",
    "if 'arquivos_csv' in locals() and arquivos_csv:\n",
    "    todos_dados = []\n",
    "    \n",
    "    for arq in arquivos_csv:\n",
    "        try:\n",
    "            with client.read(f'{hdfs_dir}{arq}', encoding='utf-8') as reader:\n",
    "                df = pd.read_csv(reader)\n",
    "                df['__arquivo_origem'] = arq\n",
    "                todos_dados.append(df)\n",
    "            print(f\"Arquivo {arq} lido com sucesso!\")\n",
    "        except Exception as e:\n",
    "            print(f\"Erro ao processar arquivo {arq}: {e}\")\n",
    "    \n",
    "    if todos_dados:\n",
    "        df = pd.concat(todos_dados, ignore_index=True)\n",
    "        print(f\"Total de registros lidos: {len(df)}\")"
   ]
  },
  {
   "cell_type": "code",
   "execution_count": 14,
   "id": "8ac646ae",
   "metadata": {},
   "outputs": [
    {
     "name": "stdout",
     "output_type": "stream",
     "text": [
      "Registros após filtrar SAA: 1669856\n",
      "\n",
      "Amostra dos dados processados:\n"
     ]
    },
    {
     "data": {
      "text/html": [
       "<div>\n",
       "<style scoped>\n",
       "    .dataframe tbody tr th:only-of-type {\n",
       "        vertical-align: middle;\n",
       "    }\n",
       "\n",
       "    .dataframe tbody tr th {\n",
       "        vertical-align: top;\n",
       "    }\n",
       "\n",
       "    .dataframe thead th {\n",
       "        text-align: right;\n",
       "    }\n",
       "</style>\n",
       "<table border=\"1\" class=\"dataframe\">\n",
       "  <thead>\n",
       "    <tr style=\"text-align: right;\">\n",
       "      <th></th>\n",
       "      <th>municipio</th>\n",
       "      <th>ano</th>\n",
       "      <th>tipo_da_forma_de_abastecimento</th>\n",
       "      <th>mes</th>\n",
       "      <th>parametro</th>\n",
       "      <th>data_da_coleta</th>\n",
       "      <th>resultado</th>\n",
       "      <th>__arquivo_origem</th>\n",
       "      <th>resultado_num</th>\n",
       "      <th>conformidade</th>\n",
       "      <th>tipo_analise</th>\n",
       "    </tr>\n",
       "  </thead>\n",
       "  <tbody>\n",
       "    <tr>\n",
       "      <th>0</th>\n",
       "      <td>SOLONOPOLE</td>\n",
       "      <td>2020</td>\n",
       "      <td>SAA</td>\n",
       "      <td>12</td>\n",
       "      <td>Cloro residual livre (mg/L)</td>\n",
       "      <td>2020-12-01</td>\n",
       "      <td>0,5</td>\n",
       "      <td>dados_2020_2025_04_30.csv</td>\n",
       "      <td>0.50</td>\n",
       "      <td>CONFORME</td>\n",
       "      <td>Físico-Química</td>\n",
       "    </tr>\n",
       "    <tr>\n",
       "      <th>1</th>\n",
       "      <td>IGUATU</td>\n",
       "      <td>2020</td>\n",
       "      <td>SAA</td>\n",
       "      <td>5</td>\n",
       "      <td>Escherichia coli</td>\n",
       "      <td>2020-05-14</td>\n",
       "      <td>AUSENTE</td>\n",
       "      <td>dados_2020_2025_04_30.csv</td>\n",
       "      <td>NaN</td>\n",
       "      <td>CONFORME</td>\n",
       "      <td>Microbiológica</td>\n",
       "    </tr>\n",
       "    <tr>\n",
       "      <th>2</th>\n",
       "      <td>CRATO</td>\n",
       "      <td>2020</td>\n",
       "      <td>SAA</td>\n",
       "      <td>5</td>\n",
       "      <td>Turbidez (uT)</td>\n",
       "      <td>2020-05-14</td>\n",
       "      <td>0,61</td>\n",
       "      <td>dados_2020_2025_04_30.csv</td>\n",
       "      <td>0.61</td>\n",
       "      <td>CONFORME</td>\n",
       "      <td>Físico-Química</td>\n",
       "    </tr>\n",
       "    <tr>\n",
       "      <th>3</th>\n",
       "      <td>MARCO</td>\n",
       "      <td>2020</td>\n",
       "      <td>SAA</td>\n",
       "      <td>4</td>\n",
       "      <td>Escherichia coli</td>\n",
       "      <td>2020-04-28</td>\n",
       "      <td>AUSENTE</td>\n",
       "      <td>dados_2020_2025_04_30.csv</td>\n",
       "      <td>NaN</td>\n",
       "      <td>CONFORME</td>\n",
       "      <td>Microbiológica</td>\n",
       "    </tr>\n",
       "    <tr>\n",
       "      <th>4</th>\n",
       "      <td>TIANGUA</td>\n",
       "      <td>2020</td>\n",
       "      <td>SAA</td>\n",
       "      <td>5</td>\n",
       "      <td>Coliformes totais</td>\n",
       "      <td>2020-05-20</td>\n",
       "      <td>AUSENTE</td>\n",
       "      <td>dados_2020_2025_04_30.csv</td>\n",
       "      <td>NaN</td>\n",
       "      <td>CONFORME</td>\n",
       "      <td>Microbiológica</td>\n",
       "    </tr>\n",
       "  </tbody>\n",
       "</table>\n",
       "</div>"
      ],
      "text/plain": [
       "    municipio   ano tipo_da_forma_de_abastecimento  mes  \\\n",
       "0  SOLONOPOLE  2020                            SAA   12   \n",
       "1      IGUATU  2020                            SAA    5   \n",
       "2       CRATO  2020                            SAA    5   \n",
       "3       MARCO  2020                            SAA    4   \n",
       "4     TIANGUA  2020                            SAA    5   \n",
       "\n",
       "                     parametro data_da_coleta resultado  \\\n",
       "0  Cloro residual livre (mg/L)     2020-12-01       0,5   \n",
       "1             Escherichia coli     2020-05-14   AUSENTE   \n",
       "2                Turbidez (uT)     2020-05-14      0,61   \n",
       "3             Escherichia coli     2020-04-28   AUSENTE   \n",
       "4            Coliformes totais     2020-05-20   AUSENTE   \n",
       "\n",
       "            __arquivo_origem  resultado_num conformidade    tipo_analise  \n",
       "0  dados_2020_2025_04_30.csv           0.50     CONFORME  Físico-Química  \n",
       "1  dados_2020_2025_04_30.csv            NaN     CONFORME  Microbiológica  \n",
       "2  dados_2020_2025_04_30.csv           0.61     CONFORME  Físico-Química  \n",
       "3  dados_2020_2025_04_30.csv            NaN     CONFORME  Microbiológica  \n",
       "4  dados_2020_2025_04_30.csv            NaN     CONFORME  Microbiológica  "
      ]
     },
     "metadata": {},
     "output_type": "display_data"
    }
   ],
   "source": [
    "if 'df' in locals():\n",
    "    # Selecionar colunas\n",
    "    colunas_selecionadas = [\n",
    "        'municipio', 'ano', 'tipo_da_forma_de_abastecimento', 'mes',\n",
    "        'parametro', 'data_da_coleta', 'resultado', '__arquivo_origem'\n",
    "    ]\n",
    "    df_teste = df[colunas_selecionadas].copy()\n",
    "    \n",
    "    # Filtrar apenas SAA\n",
    "    df_saa = df_teste[df_teste['tipo_da_forma_de_abastecimento'] == 'SAA'].copy()\n",
    "    print(f\"Registros após filtrar SAA: {len(df_saa)}\")\n",
    "    \n",
    "    # Converter resultados numéricos\n",
    "    df_saa['resultado_num'] = pd.to_numeric(\n",
    "        df_saa['resultado'].astype(str).str.replace(',', '.'),\n",
    "        errors='coerce'\n",
    "    )\n",
    "    \n",
    "    # Aplicar classificações\n",
    "    df_saa['conformidade'] = df_saa.apply(classificar_conformidade, axis=1)\n",
    "    df_saa['tipo_analise'] = df_saa['parametro'].apply(classificar_tipo_analise)\n",
    "    \n",
    "    # Mostrar amostra\n",
    "    print(\"\\nAmostra dos dados processados:\")\n",
    "    display(df_saa.head())"
   ]
  },
  {
   "cell_type": "code",
   "execution_count": 15,
   "id": "7eb17afc",
   "metadata": {},
   "outputs": [
    {
     "name": "stdout",
     "output_type": "stream",
     "text": [
      "✅ 1669856 registros inseridos com sucesso em dados_sisagua_transformados\n"
     ]
    }
   ],
   "source": [
    "if 'df_saa' in locals() and not df_saa.empty:\n",
    "    try:\n",
    "        with engine.begin() as conn:\n",
    "            df_saa.to_sql(\n",
    "                name=table_name,\n",
    "                con=engine,\n",
    "                if_exists='append',\n",
    "                index=False\n",
    "            )\n",
    "        print(f\"✅ {len(df_saa)} registros inseridos com sucesso em {table_name}\")\n",
    "    except Exception as e:\n",
    "        print(f\"❌ Erro ao inserir no PostgreSQL: {e}\")"
   ]
  }
 ],
 "metadata": {
  "kernelspec": {
   "display_name": "digital",
   "language": "python",
   "name": "python3"
  },
  "language_info": {
   "codemirror_mode": {
    "name": "ipython",
    "version": 3
   },
   "file_extension": ".py",
   "mimetype": "text/x-python",
   "name": "python",
   "nbconvert_exporter": "python",
   "pygments_lexer": "ipython3",
   "version": "3.12.3"
  }
 },
 "nbformat": 4,
 "nbformat_minor": 5
}
