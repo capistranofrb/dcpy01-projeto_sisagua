{
 "cells": [
  {
   "cell_type": "code",
   "execution_count": 1,
   "id": "1a21a049",
   "metadata": {},
   "outputs": [],
   "source": [
    "import pandas as pd\n",
    "import psycopg2\n",
    "from sqlalchemy import create_engine"
   ]
  },
  {
   "cell_type": "code",
   "execution_count": null,
   "id": "067e6c0d",
   "metadata": {},
   "outputs": [
    {
     "name": "stdout",
     "output_type": "stream",
     "text": [
      "✅ Conexão bem-sucedida com psycopg2!\n"
     ]
    },
    {
     "data": {
      "text/plain": [
       "True"
      ]
     },
     "execution_count": 4,
     "metadata": {},
     "output_type": "execute_result"
    }
   ],
   "source": [
    "def test_postgres_connection():\n",
    "    try:\n",
    "        conn = psycopg2.connect(\n",
    "            host=pg_host,\n",
    "            database=pg_database,\n",
    "            user=pg_user,\n",
    "            password=pg_password,\n",
    "            port=pg_port\n",
    "        )\n",
    "        conn.close()\n",
    "        print(\"✅ Conexão bem-sucedida com psycopg2!\")\n",
    "        return True\n",
    "    except Exception as e:\n",
    "        print(f\"❌ Falha na conexão: {e}\")\n",
    "        return False\n",
    "\n",
    "# Execute o teste\n",
    "test_postgres_connection()"
   ]
  },
  {
   "cell_type": "code",
   "execution_count": 5,
   "id": "46777b6c",
   "metadata": {},
   "outputs": [],
   "source": [
    "engine = create_engine(\n",
    "    f'postgresql://{pg_user}:{pg_password}@{pg_host}:{pg_port}/{pg_database}'\n",
    ")"
   ]
  },
  {
   "cell_type": "code",
   "execution_count": 6,
   "id": "9b552d9e",
   "metadata": {},
   "outputs": [
    {
     "name": "stdout",
     "output_type": "stream",
     "text": [
      "✅ Dados lidos com sucesso do PostgreSQL!\n",
      "\n",
      "Total de registros carregados: 1000\n"
     ]
    }
   ],
   "source": [
    "# ETAPA 1: Ler os dados do PostgreSQL\n",
    "try:\n",
    "    # Ler uma amostra dos dados (primeiras 1000 linhas para não sobrecarregar)\n",
    "    query = f\"SELECT * FROM {table_name} LIMIT 1000\"\n",
    "    df = pd.read_sql(query, engine)\n",
    "    \n",
    "    print(\"✅ Dados lidos com sucesso do PostgreSQL!\")\n",
    "    print(f\"\\nTotal de registros carregados: {len(df)}\")\n",
    "    \n",
    "except Exception as e:\n",
    "    print(f\"❌ Erro ao ler dados do PostgreSQL: {e}\")\n",
    "    raise"
   ]
  },
  {
   "cell_type": "code",
   "execution_count": 9,
   "id": "b4c401d7",
   "metadata": {},
   "outputs": [
    {
     "name": "stdout",
     "output_type": "stream",
     "text": [
      "\n",
      "🔍 ESTRUTURA DO DATASET:\n",
      "\n"
     ]
    }
   ],
   "source": [
    "# ETAPA 2: Análise da Estrutura do Dataset\n",
    "if not df.empty:\n",
    "    print(\"\\n🔍 ESTRUTURA DO DATASET:\\n\")\n"
   ]
  },
  {
   "cell_type": "code",
   "execution_count": 13,
   "id": "c1b85e37",
   "metadata": {},
   "outputs": [
    {
     "name": "stdout",
     "output_type": "stream",
     "text": [
      "📋 Primeiras linhas do dataset:\n"
     ]
    },
    {
     "data": {
      "text/html": [
       "<div>\n",
       "<style scoped>\n",
       "    .dataframe tbody tr th:only-of-type {\n",
       "        vertical-align: middle;\n",
       "    }\n",
       "\n",
       "    .dataframe tbody tr th {\n",
       "        vertical-align: top;\n",
       "    }\n",
       "\n",
       "    .dataframe thead th {\n",
       "        text-align: right;\n",
       "    }\n",
       "</style>\n",
       "<table border=\"1\" class=\"dataframe\">\n",
       "  <thead>\n",
       "    <tr style=\"text-align: right;\">\n",
       "      <th></th>\n",
       "      <th>municipio</th>\n",
       "      <th>ano</th>\n",
       "      <th>tipo_da_forma_de_abastecimento</th>\n",
       "      <th>mes</th>\n",
       "      <th>parametro</th>\n",
       "      <th>data_da_coleta</th>\n",
       "      <th>resultado</th>\n",
       "      <th>__arquivo_origem</th>\n",
       "      <th>resultado_num</th>\n",
       "      <th>conformidade</th>\n",
       "      <th>tipo_analise</th>\n",
       "    </tr>\n",
       "  </thead>\n",
       "  <tbody>\n",
       "    <tr>\n",
       "      <th>0</th>\n",
       "      <td>MILAGRES</td>\n",
       "      <td>2024</td>\n",
       "      <td>SAA</td>\n",
       "      <td>7</td>\n",
       "      <td>Turbidez (uT)</td>\n",
       "      <td>2024-07-08</td>\n",
       "      <td>0,61</td>\n",
       "      <td>dados_2024_2025_05_02.csv</td>\n",
       "      <td>0.61</td>\n",
       "      <td>CONFORME</td>\n",
       "      <td>Físico-Química</td>\n",
       "    </tr>\n",
       "    <tr>\n",
       "      <th>1</th>\n",
       "      <td>JAGUARIBARA</td>\n",
       "      <td>2024</td>\n",
       "      <td>SAA</td>\n",
       "      <td>10</td>\n",
       "      <td>Escherichia coli</td>\n",
       "      <td>2024-10-22</td>\n",
       "      <td>AUSENTE</td>\n",
       "      <td>dados_2024_2025_05_02.csv</td>\n",
       "      <td>NaN</td>\n",
       "      <td>CONFORME</td>\n",
       "      <td>Microbiológica</td>\n",
       "    </tr>\n",
       "    <tr>\n",
       "      <th>2</th>\n",
       "      <td>ITATIRA</td>\n",
       "      <td>2024</td>\n",
       "      <td>SAA</td>\n",
       "      <td>11</td>\n",
       "      <td>Cor Aparente (uH)</td>\n",
       "      <td>2024-11-18</td>\n",
       "      <td>5</td>\n",
       "      <td>dados_2024_2025_05_02.csv</td>\n",
       "      <td>5.00</td>\n",
       "      <td>CONFORME</td>\n",
       "      <td>Físico-Química</td>\n",
       "    </tr>\n",
       "    <tr>\n",
       "      <th>3</th>\n",
       "      <td>ITATIRA</td>\n",
       "      <td>2024</td>\n",
       "      <td>SAA</td>\n",
       "      <td>11</td>\n",
       "      <td>Turbidez (uT)</td>\n",
       "      <td>2024-11-18</td>\n",
       "      <td>0,2</td>\n",
       "      <td>dados_2024_2025_05_02.csv</td>\n",
       "      <td>0.20</td>\n",
       "      <td>CONFORME</td>\n",
       "      <td>Físico-Química</td>\n",
       "    </tr>\n",
       "    <tr>\n",
       "      <th>4</th>\n",
       "      <td>SENADOR SA</td>\n",
       "      <td>2024</td>\n",
       "      <td>SAA</td>\n",
       "      <td>2</td>\n",
       "      <td>Turbidez (uT)</td>\n",
       "      <td>2024-02-27</td>\n",
       "      <td>1,0</td>\n",
       "      <td>dados_2024_2025_05_02.csv</td>\n",
       "      <td>1.00</td>\n",
       "      <td>CONFORME</td>\n",
       "      <td>Físico-Química</td>\n",
       "    </tr>\n",
       "  </tbody>\n",
       "</table>\n",
       "</div>"
      ],
      "text/plain": [
       "     municipio   ano tipo_da_forma_de_abastecimento mes          parametro  \\\n",
       "0     MILAGRES  2024                            SAA   7      Turbidez (uT)   \n",
       "1  JAGUARIBARA  2024                            SAA  10   Escherichia coli   \n",
       "2      ITATIRA  2024                            SAA  11  Cor Aparente (uH)   \n",
       "3      ITATIRA  2024                            SAA  11      Turbidez (uT)   \n",
       "4   SENADOR SA  2024                            SAA   2      Turbidez (uT)   \n",
       "\n",
       "  data_da_coleta resultado           __arquivo_origem  resultado_num  \\\n",
       "0     2024-07-08      0,61  dados_2024_2025_05_02.csv           0.61   \n",
       "1     2024-10-22   AUSENTE  dados_2024_2025_05_02.csv            NaN   \n",
       "2     2024-11-18         5  dados_2024_2025_05_02.csv           5.00   \n",
       "3     2024-11-18       0,2  dados_2024_2025_05_02.csv           0.20   \n",
       "4     2024-02-27       1,0  dados_2024_2025_05_02.csv           1.00   \n",
       "\n",
       "  conformidade    tipo_analise  \n",
       "0     CONFORME  Físico-Química  \n",
       "1     CONFORME  Microbiológica  \n",
       "2     CONFORME  Físico-Química  \n",
       "3     CONFORME  Físico-Química  \n",
       "4     CONFORME  Físico-Química  "
      ]
     },
     "metadata": {},
     "output_type": "display_data"
    }
   ],
   "source": [
    "# 2.1. Visualização das primeiras linhas\n",
    "print(\"📋 Primeiras linhas do dataset:\")\n",
    "display(df.head())"
   ]
  },
  {
   "cell_type": "code",
   "execution_count": 14,
   "id": "e42fce83",
   "metadata": {},
   "outputs": [
    {
     "name": "stdout",
     "output_type": "stream",
     "text": [
      "\n",
      "📝 Informações sobre colunas e tipos de dados:\n",
      "<class 'pandas.core.frame.DataFrame'>\n",
      "RangeIndex: 1000 entries, 0 to 999\n",
      "Data columns (total 11 columns):\n",
      " #   Column                          Non-Null Count  Dtype  \n",
      "---  ------                          --------------  -----  \n",
      " 0   municipio                       1000 non-null   object \n",
      " 1   ano                             1000 non-null   int64  \n",
      " 2   tipo_da_forma_de_abastecimento  1000 non-null   object \n",
      " 3   mes                             1000 non-null   object \n",
      " 4   parametro                       1000 non-null   object \n",
      " 5   data_da_coleta                  1000 non-null   object \n",
      " 6   resultado                       1000 non-null   object \n",
      " 7   __arquivo_origem                1000 non-null   object \n",
      " 8   resultado_num                   637 non-null    float64\n",
      " 9   conformidade                    1000 non-null   object \n",
      " 10  tipo_analise                    1000 non-null   object \n",
      "dtypes: float64(1), int64(1), object(9)\n",
      "memory usage: 86.1+ KB\n",
      "None\n"
     ]
    }
   ],
   "source": [
    "# 2.2. Informações sobre colunas e tipos\n",
    "print(\"\\n📝 Informações sobre colunas e tipos de dados:\")\n",
    "print(df.info())"
   ]
  },
  {
   "cell_type": "code",
   "execution_count": 15,
   "id": "44590eb2",
   "metadata": {},
   "outputs": [
    {
     "name": "stdout",
     "output_type": "stream",
     "text": [
      "\n",
      "📊 Estatísticas descritivas das colunas numéricas:\n"
     ]
    },
    {
     "data": {
      "text/html": [
       "<div>\n",
       "<style scoped>\n",
       "    .dataframe tbody tr th:only-of-type {\n",
       "        vertical-align: middle;\n",
       "    }\n",
       "\n",
       "    .dataframe tbody tr th {\n",
       "        vertical-align: top;\n",
       "    }\n",
       "\n",
       "    .dataframe thead th {\n",
       "        text-align: right;\n",
       "    }\n",
       "</style>\n",
       "<table border=\"1\" class=\"dataframe\">\n",
       "  <thead>\n",
       "    <tr style=\"text-align: right;\">\n",
       "      <th></th>\n",
       "      <th>municipio</th>\n",
       "      <th>ano</th>\n",
       "      <th>tipo_da_forma_de_abastecimento</th>\n",
       "      <th>mes</th>\n",
       "      <th>parametro</th>\n",
       "      <th>data_da_coleta</th>\n",
       "      <th>resultado</th>\n",
       "      <th>__arquivo_origem</th>\n",
       "      <th>resultado_num</th>\n",
       "      <th>conformidade</th>\n",
       "      <th>tipo_analise</th>\n",
       "    </tr>\n",
       "  </thead>\n",
       "  <tbody>\n",
       "    <tr>\n",
       "      <th>count</th>\n",
       "      <td>1000</td>\n",
       "      <td>1000.0</td>\n",
       "      <td>1000</td>\n",
       "      <td>1000</td>\n",
       "      <td>1000</td>\n",
       "      <td>1000</td>\n",
       "      <td>1000</td>\n",
       "      <td>1000</td>\n",
       "      <td>637.000000</td>\n",
       "      <td>1000</td>\n",
       "      <td>1000</td>\n",
       "    </tr>\n",
       "    <tr>\n",
       "      <th>unique</th>\n",
       "      <td>177</td>\n",
       "      <td>NaN</td>\n",
       "      <td>1</td>\n",
       "      <td>12</td>\n",
       "      <td>8</td>\n",
       "      <td>168</td>\n",
       "      <td>203</td>\n",
       "      <td>1</td>\n",
       "      <td>NaN</td>\n",
       "      <td>3</td>\n",
       "      <td>3</td>\n",
       "    </tr>\n",
       "    <tr>\n",
       "      <th>top</th>\n",
       "      <td>FORTALEZA</td>\n",
       "      <td>NaN</td>\n",
       "      <td>SAA</td>\n",
       "      <td>5</td>\n",
       "      <td>Cloro residual livre (mg/L)</td>\n",
       "      <td>2024-03-20</td>\n",
       "      <td>AUSENTE</td>\n",
       "      <td>dados_2024_2025_05_02.csv</td>\n",
       "      <td>NaN</td>\n",
       "      <td>CONFORME</td>\n",
       "      <td>Físico-Química</td>\n",
       "    </tr>\n",
       "    <tr>\n",
       "      <th>freq</th>\n",
       "      <td>17</td>\n",
       "      <td>NaN</td>\n",
       "      <td>1000</td>\n",
       "      <td>113</td>\n",
       "      <td>213</td>\n",
       "      <td>26</td>\n",
       "      <td>302</td>\n",
       "      <td>1000</td>\n",
       "      <td>NaN</td>\n",
       "      <td>857</td>\n",
       "      <td>636</td>\n",
       "    </tr>\n",
       "    <tr>\n",
       "      <th>mean</th>\n",
       "      <td>NaN</td>\n",
       "      <td>2024.0</td>\n",
       "      <td>NaN</td>\n",
       "      <td>NaN</td>\n",
       "      <td>NaN</td>\n",
       "      <td>NaN</td>\n",
       "      <td>NaN</td>\n",
       "      <td>NaN</td>\n",
       "      <td>3.820078</td>\n",
       "      <td>NaN</td>\n",
       "      <td>NaN</td>\n",
       "    </tr>\n",
       "    <tr>\n",
       "      <th>std</th>\n",
       "      <td>NaN</td>\n",
       "      <td>0.0</td>\n",
       "      <td>NaN</td>\n",
       "      <td>NaN</td>\n",
       "      <td>NaN</td>\n",
       "      <td>NaN</td>\n",
       "      <td>NaN</td>\n",
       "      <td>NaN</td>\n",
       "      <td>7.064084</td>\n",
       "      <td>NaN</td>\n",
       "      <td>NaN</td>\n",
       "    </tr>\n",
       "    <tr>\n",
       "      <th>min</th>\n",
       "      <td>NaN</td>\n",
       "      <td>2024.0</td>\n",
       "      <td>NaN</td>\n",
       "      <td>NaN</td>\n",
       "      <td>NaN</td>\n",
       "      <td>NaN</td>\n",
       "      <td>NaN</td>\n",
       "      <td>NaN</td>\n",
       "      <td>0.000000</td>\n",
       "      <td>NaN</td>\n",
       "      <td>NaN</td>\n",
       "    </tr>\n",
       "    <tr>\n",
       "      <th>25%</th>\n",
       "      <td>NaN</td>\n",
       "      <td>2024.0</td>\n",
       "      <td>NaN</td>\n",
       "      <td>NaN</td>\n",
       "      <td>NaN</td>\n",
       "      <td>NaN</td>\n",
       "      <td>NaN</td>\n",
       "      <td>NaN</td>\n",
       "      <td>0.500000</td>\n",
       "      <td>NaN</td>\n",
       "      <td>NaN</td>\n",
       "    </tr>\n",
       "    <tr>\n",
       "      <th>50%</th>\n",
       "      <td>NaN</td>\n",
       "      <td>2024.0</td>\n",
       "      <td>NaN</td>\n",
       "      <td>NaN</td>\n",
       "      <td>NaN</td>\n",
       "      <td>NaN</td>\n",
       "      <td>NaN</td>\n",
       "      <td>NaN</td>\n",
       "      <td>1.670000</td>\n",
       "      <td>NaN</td>\n",
       "      <td>NaN</td>\n",
       "    </tr>\n",
       "    <tr>\n",
       "      <th>75%</th>\n",
       "      <td>NaN</td>\n",
       "      <td>2024.0</td>\n",
       "      <td>NaN</td>\n",
       "      <td>NaN</td>\n",
       "      <td>NaN</td>\n",
       "      <td>NaN</td>\n",
       "      <td>NaN</td>\n",
       "      <td>NaN</td>\n",
       "      <td>5.000000</td>\n",
       "      <td>NaN</td>\n",
       "      <td>NaN</td>\n",
       "    </tr>\n",
       "    <tr>\n",
       "      <th>max</th>\n",
       "      <td>NaN</td>\n",
       "      <td>2024.0</td>\n",
       "      <td>NaN</td>\n",
       "      <td>NaN</td>\n",
       "      <td>NaN</td>\n",
       "      <td>NaN</td>\n",
       "      <td>NaN</td>\n",
       "      <td>NaN</td>\n",
       "      <td>70.000000</td>\n",
       "      <td>NaN</td>\n",
       "      <td>NaN</td>\n",
       "    </tr>\n",
       "  </tbody>\n",
       "</table>\n",
       "</div>"
      ],
      "text/plain": [
       "        municipio     ano tipo_da_forma_de_abastecimento   mes  \\\n",
       "count        1000  1000.0                           1000  1000   \n",
       "unique        177     NaN                              1    12   \n",
       "top     FORTALEZA     NaN                            SAA     5   \n",
       "freq           17     NaN                           1000   113   \n",
       "mean          NaN  2024.0                            NaN   NaN   \n",
       "std           NaN     0.0                            NaN   NaN   \n",
       "min           NaN  2024.0                            NaN   NaN   \n",
       "25%           NaN  2024.0                            NaN   NaN   \n",
       "50%           NaN  2024.0                            NaN   NaN   \n",
       "75%           NaN  2024.0                            NaN   NaN   \n",
       "max           NaN  2024.0                            NaN   NaN   \n",
       "\n",
       "                          parametro data_da_coleta resultado  \\\n",
       "count                          1000           1000      1000   \n",
       "unique                            8            168       203   \n",
       "top     Cloro residual livre (mg/L)     2024-03-20   AUSENTE   \n",
       "freq                            213             26       302   \n",
       "mean                            NaN            NaN       NaN   \n",
       "std                             NaN            NaN       NaN   \n",
       "min                             NaN            NaN       NaN   \n",
       "25%                             NaN            NaN       NaN   \n",
       "50%                             NaN            NaN       NaN   \n",
       "75%                             NaN            NaN       NaN   \n",
       "max                             NaN            NaN       NaN   \n",
       "\n",
       "                 __arquivo_origem  resultado_num conformidade    tipo_analise  \n",
       "count                        1000     637.000000         1000            1000  \n",
       "unique                          1            NaN            3               3  \n",
       "top     dados_2024_2025_05_02.csv            NaN     CONFORME  Físico-Química  \n",
       "freq                         1000            NaN          857             636  \n",
       "mean                          NaN       3.820078          NaN             NaN  \n",
       "std                           NaN       7.064084          NaN             NaN  \n",
       "min                           NaN       0.000000          NaN             NaN  \n",
       "25%                           NaN       0.500000          NaN             NaN  \n",
       "50%                           NaN       1.670000          NaN             NaN  \n",
       "75%                           NaN       5.000000          NaN             NaN  \n",
       "max                           NaN      70.000000          NaN             NaN  "
      ]
     },
     "metadata": {},
     "output_type": "display_data"
    }
   ],
   "source": [
    "# 2.3. Estatísticas descritivas\n",
    "print(\"\\n📊 Estatísticas descritivas das colunas numéricas:\")\n",
    "display(df.describe(include='all'))"
   ]
  },
  {
   "cell_type": "code",
   "execution_count": 16,
   "id": "9d7b7143",
   "metadata": {},
   "outputs": [
    {
     "name": "stdout",
     "output_type": "stream",
     "text": [
      "\n",
      "🌈 Valores únicos nas colunas categóricas:\n",
      "\n",
      "municipio:\n",
      "municipio\n",
      "FORTALEZA    17\n",
      "GRANJA       16\n",
      "QUIXADA      13\n",
      "ITAPIPOCA    13\n",
      "SOBRAL       13\n",
      "ARACOIABA    12\n",
      "CAUCAIA      12\n",
      "COREAU       12\n",
      "IGUATU       12\n",
      "GUAIUBA      11\n",
      "Name: count, dtype: int64\n",
      "... (Total de valores únicos: 177)\n",
      "\n",
      "tipo_da_forma_de_abastecimento:\n",
      "tipo_da_forma_de_abastecimento\n",
      "SAA    1000\n",
      "Name: count, dtype: int64\n",
      "\n",
      "mes:\n",
      "mes\n",
      "5     113\n",
      "3      98\n",
      "2      94\n",
      "6      89\n",
      "4      88\n",
      "1      87\n",
      "7      83\n",
      "9      78\n",
      "10     76\n",
      "11     67\n",
      "Name: count, dtype: int64\n",
      "... (Total de valores únicos: 12)\n",
      "\n",
      "parametro:\n",
      "parametro\n",
      "Cloro residual livre (mg/L)        213\n",
      "Turbidez (uT)                      198\n",
      "Coliformes totais                  189\n",
      "Escherichia coli                   174\n",
      "Cor Aparente (uH)                  137\n",
      "Fluoreto (mg/L)                     56\n",
      "pH                                  32\n",
      "Cloro residual combinado (mg/L)      1\n",
      "Name: count, dtype: int64\n",
      "\n",
      "data_da_coleta:\n",
      "data_da_coleta\n",
      "2024-03-20    26\n",
      "2024-02-20    19\n",
      "2024-05-08    18\n",
      "2024-10-22    17\n",
      "2024-05-21    17\n",
      "2024-12-17    16\n",
      "2024-06-10    16\n",
      "2024-05-15    16\n",
      "2024-12-09    15\n",
      "2024-03-13    15\n",
      "Name: count, dtype: int64\n",
      "... (Total de valores únicos: 168)\n",
      "\n",
      "resultado:\n",
      "resultado\n",
      "AUSENTE     302\n",
      "5            86\n",
      "PRESENTE     61\n",
      "0,5          31\n",
      "0,4          26\n",
      "10           22\n",
      "5,50         20\n",
      "7            17\n",
      "0,3          17\n",
      "0,8          14\n",
      "Name: count, dtype: int64\n",
      "... (Total de valores únicos: 203)\n",
      "\n",
      "__arquivo_origem:\n",
      "__arquivo_origem\n",
      "dados_2024_2025_05_02.csv    1000\n",
      "Name: count, dtype: int64\n",
      "\n",
      "conformidade:\n",
      "conformidade\n",
      "CONFORME        857\n",
      "NÃO CONFORME    142\n",
      "IGNORADO          1\n",
      "Name: count, dtype: int64\n",
      "\n",
      "tipo_analise:\n",
      "tipo_analise\n",
      "Físico-Química    636\n",
      "Microbiológica    363\n",
      "Outros              1\n",
      "Name: count, dtype: int64\n"
     ]
    }
   ],
   "source": [
    "# 2.4. Valores únicos por coluna categórica\n",
    "print(\"\\n🌈 Valores únicos nas colunas categóricas:\")\n",
    "categorical_cols = df.select_dtypes(include=['object']).columns\n",
    "for col in categorical_cols:\n",
    "    print(f\"\\n{col}:\")\n",
    "    print(df[col].value_counts(dropna=False).head(10))\n",
    "    if len(df[col].unique()) > 10:\n",
    "        print(f\"... (Total de valores únicos: {len(df[col].unique())})\")"
   ]
  },
  {
   "cell_type": "code",
   "execution_count": 17,
   "id": "fe471b99",
   "metadata": {},
   "outputs": [
    {
     "name": "stdout",
     "output_type": "stream",
     "text": [
      "\n",
      "⚠️ Valores nulos por coluna:\n"
     ]
    },
    {
     "data": {
      "text/plain": [
       "resultado_num    363\n",
       "dtype: int64"
      ]
     },
     "metadata": {},
     "output_type": "display_data"
    }
   ],
   "source": [
    "# 2.5. Verificação de valores nulos\n",
    "print(\"\\n⚠️ Valores nulos por coluna:\")\n",
    "null_counts = df.isnull().sum()\n",
    "display(null_counts[null_counts > 0])"
   ]
  },
  {
   "cell_type": "code",
   "execution_count": 18,
   "id": "b0ac299a",
   "metadata": {},
   "outputs": [
    {
     "name": "stdout",
     "output_type": "stream",
     "text": [
      "\n",
      "📅 Distribuição temporal dos dados:\n"
     ]
    },
    {
     "name": "stderr",
     "output_type": "stream",
     "text": [
      "/tmp/ipykernel_42715/39095448.py:10: FutureWarning: 'M' is deprecated and will be removed in a future version, please use 'ME' instead.\n",
      "  temporal_dist = df.set_index('data_da_coleta').resample('M').size()\n"
     ]
    },
    {
     "data": {
      "image/png": "[encoded data removed]",
      "text/plain": [
       "<Figure size 1200x400 with 1 Axes>"
      ]
     },
     "metadata": {},
     "output_type": "display_data"
    }
   ],
   "source": [
    "# 2.6. Análise da distribuição temporal (se houver coluna de data)\n",
    "if 'data_da_coleta' in df.columns:\n",
    "    print(\"\\n📅 Distribuição temporal dos dados:\")\n",
    "    try:\n",
    "        # Converter para datetime se necessário\n",
    "        if not pd.api.types.is_datetime64_any_dtype(df['data_da_coleta']):\n",
    "            df['data_da_coleta'] = pd.to_datetime(df['data_da_coleta'], errors='coerce')\n",
    "            \n",
    "            # Agrupar por mês/ano\n",
    "            temporal_dist = df.set_index('data_da_coleta').resample('M').size()\n",
    "            temporal_dist.plot(\n",
    "                title='Distribuição de Coletas por Mês',\n",
    "                figsize=(12, 4),\n",
    "                grid=True\n",
    "            )\n",
    "    except Exception as e:\n",
    "        print(f\"Não foi possível analisar a distribuição temporal: {e}\")"
   ]
  },
  {
   "cell_type": "code",
   "execution_count": 19,
   "id": "2a04304b",
   "metadata": {},
   "outputs": [
    {
     "name": "stdout",
     "output_type": "stream",
     "text": [
      "\n",
      "🏙️ Top 10 municípios com mais coletas:\n"
     ]
    },
    {
     "data": {
      "text/plain": [
       "municipio\n",
       "FORTALEZA    17\n",
       "GRANJA       16\n",
       "QUIXADA      13\n",
       "ITAPIPOCA    13\n",
       "SOBRAL       13\n",
       "ARACOIABA    12\n",
       "CAUCAIA      12\n",
       "COREAU       12\n",
       "IGUATU       12\n",
       "GUAIUBA      11\n",
       "Name: count, dtype: int64"
      ]
     },
     "metadata": {},
     "output_type": "display_data"
    }
   ],
   "source": [
    "# 2.7. Análise da distribuição por município (exemplo)\n",
    "if 'municipio' in df.columns:\n",
    "    print(\"\\n🏙️ Top 10 municípios com mais coletas:\")\n",
    "    display(df['municipio'].value_counts().head(10))"
   ]
  },
  {
   "cell_type": "code",
   "execution_count": 20,
   "id": "352908d0",
   "metadata": {},
   "outputs": [
    {
     "name": "stdout",
     "output_type": "stream",
     "text": [
      "\n",
      "✅❌ Distribuição de conformidade:\n"
     ]
    },
    {
     "data": {
      "text/plain": [
       "conformidade\n",
       "CONFORME        85.7%\n",
       "NÃO CONFORME    14.2%\n",
       "IGNORADO         0.1%\n",
       "Name: proportion, dtype: object"
      ]
     },
     "metadata": {},
     "output_type": "display_data"
    }
   ],
   "source": [
    "# 2.8. Análise da conformidade\n",
    "if 'conformidade' in df.columns:\n",
    "    print(\"\\n✅❌ Distribuição de conformidade:\")\n",
    "    display(df['conformidade'].value_counts(normalize=True).apply(lambda x: f\"{x:.1%}\"))\n",
    "    \n",
    "else:\n",
    "    print(\"Nenhum dado foi carregado para análise.\")"
   ]
  },
  {
   "cell_type": "code",
   "execution_count": 23,
   "id": "ddac81cc",
   "metadata": {},
   "outputs": [
    {
     "name": "stdout",
     "output_type": "stream",
     "text": [
      "\n",
      "🔬 Conformidade por tipo de análise:\n"
     ]
    },
    {
     "data": {
      "text/html": [
       "<div>\n",
       "<style scoped>\n",
       "    .dataframe tbody tr th:only-of-type {\n",
       "        vertical-align: middle;\n",
       "    }\n",
       "\n",
       "    .dataframe tbody tr th {\n",
       "        vertical-align: top;\n",
       "    }\n",
       "\n",
       "    .dataframe thead th {\n",
       "        text-align: right;\n",
       "    }\n",
       "</style>\n",
       "<table border=\"1\" class=\"dataframe\">\n",
       "  <thead>\n",
       "    <tr style=\"text-align: right;\">\n",
       "      <th>conformidade</th>\n",
       "      <th>CONFORME</th>\n",
       "      <th>IGNORADO</th>\n",
       "      <th>NÃO CONFORME</th>\n",
       "    </tr>\n",
       "    <tr>\n",
       "      <th>tipo_analise</th>\n",
       "      <th></th>\n",
       "      <th></th>\n",
       "      <th></th>\n",
       "    </tr>\n",
       "  </thead>\n",
       "  <tbody>\n",
       "    <tr>\n",
       "      <th>Físico-Química</th>\n",
       "      <td>0.872642</td>\n",
       "      <td>0.0</td>\n",
       "      <td>0.127358</td>\n",
       "    </tr>\n",
       "    <tr>\n",
       "      <th>Microbiológica</th>\n",
       "      <td>0.831956</td>\n",
       "      <td>0.0</td>\n",
       "      <td>0.168044</td>\n",
       "    </tr>\n",
       "    <tr>\n",
       "      <th>Outros</th>\n",
       "      <td>0.000000</td>\n",
       "      <td>1.0</td>\n",
       "      <td>0.000000</td>\n",
       "    </tr>\n",
       "  </tbody>\n",
       "</table>\n",
       "</div>"
      ],
      "text/plain": [
       "conformidade    CONFORME  IGNORADO  NÃO CONFORME\n",
       "tipo_analise                                    \n",
       "Físico-Química  0.872642       0.0      0.127358\n",
       "Microbiológica  0.831956       0.0      0.168044\n",
       "Outros          0.000000       1.0      0.000000"
      ]
     },
     "metadata": {},
     "output_type": "display_data"
    }
   ],
   "source": [
    "# Análise de distribuição por tipo de análise\n",
    "if 'tipo_analise' in df.columns and 'conformidade' in df.columns:\n",
    "    print(\"\\n🔬 Conformidade por tipo de análise:\")\n",
    "    display(pd.crosstab(df['tipo_analise'], df['conformidade'], normalize='index'))"
   ]
  },
  {
   "cell_type": "code",
   "execution_count": null,
   "id": "fb541586",
   "metadata": {},
   "outputs": [],
   "source": []
  },
  {
   "cell_type": "code",
   "execution_count": null,
   "id": "fd2eb450",
   "metadata": {},
   "outputs": [],
   "source": []
  },
  {
   "cell_type": "code",
   "execution_count": null,
   "id": "6e7d7156",
   "metadata": {},
   "outputs": [],
   "source": []
  },
  {
   "cell_type": "code",
   "execution_count": null,
   "id": "aee2e6e5",
   "metadata": {},
   "outputs": [],
   "source": []
  },
  {
   "cell_type": "code",
   "execution_count": null,
   "id": "6fc601ef",
   "metadata": {},
   "outputs": [],
   "source": []
  },
  {
   "cell_type": "code",
   "execution_count": null,
   "id": "e67ca137",
   "metadata": {},
   "outputs": [],
   "source": []
  },
  {
   "cell_type": "code",
   "execution_count": null,
   "id": "1cadf249",
   "metadata": {},
   "outputs": [],
   "source": []
  }
 ],
 "metadata": {
  "kernelspec": {
   "display_name": "digital",
   "language": "python",
   "name": "python3"
  },
  "language_info": {
   "codemirror_mode": {
    "name": "ipython",
    "version": 3
   },
   "file_extension": ".py",
   "mimetype": "text/x-python",
   "name": "python",
   "nbconvert_exporter": "python",
   "pygments_lexer": "ipython3",
   "version": "3.12.3"
  }
 },
 "nbformat": 4,
 "nbformat_minor": 5
}
